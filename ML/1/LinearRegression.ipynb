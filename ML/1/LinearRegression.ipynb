{
 "cells": [
  {
   "cell_type": "code",
   "execution_count": 1,
   "metadata": {},
   "outputs": [],
   "source": [
    "#!/usr/bin/python3\n",
    "import pandas as pd\n",
    "import numpy as np\n",
    "import matplotlib.pyplot as plt\n",
    "import seaborn as sns\n",
    "from sklearn.model_selection import train_test_split\n",
    "from sklearn.metrics import r2_score\n",
    "from sklearn.linear_model import LinearRegression"
   ]
  },
  {
   "cell_type": "code",
   "execution_count": 2,
   "metadata": {},
   "outputs": [],
   "source": [
    "class CustomLinearRegression:\n",
    "    def check_input(self, X, y=None):\n",
    "        '''\n",
    "            Description: Checks if the input is a Pandas DataFrame,\n",
    "                         Pandas Series or Numpy array\n",
    "            \n",
    "            Parameters: X: Data\n",
    "                        y: Target values\n",
    "                        \n",
    "            Returns: ValueError if input is invalid\n",
    "                     True otherwise\n",
    "        '''\n",
    "        if not isinstance(X, (pd.Series, pd.DataFrame, np.ndarray)):\n",
    "            error = \"\"\" X required as a Pandas DataFrame, \n",
    "                        Pandas Series or a Numpy array. Found type: {datatype_x}\n",
    "                    \"\"\".format(datatype_x=type(X))\n",
    "            raise TypeError(error)\n",
    "        if y is not None and not isinstance(y, (pd.Series, pd.DataFrame, np.ndarray)):\n",
    "            error = \"\"\" y required as a Pandas DataFrame, \n",
    "                        Pandas Series or a Numpy array. Found type: {datatype_y}\n",
    "                    \"\"\".format(datatype_y=type(y))\n",
    "            raise TypeError(error)\n",
    "        return True\n",
    "    \n",
    "    def transform_input(self, X, y=None):\n",
    "        '''\n",
    "            Description: Transforms the input into 2D numpy array before fitting the model\n",
    "            \n",
    "            Parameters: X: Data\n",
    "                        y: Target values\n",
    "                        \n",
    "            Returns: If input is of valid format:\n",
    "                         X: Returns data X as a 2D numpy array\n",
    "                         y: Returns target y as a 2D numpy array\n",
    "                     Otherwise returns the input as it is\n",
    "        '''\n",
    "        if self.check_input(X, y):\n",
    "            # Convert X into numpy array\n",
    "            if isinstance(X, pd.DataFrame):\n",
    "                X = X.values\n",
    "            elif isinstance(X, pd.Series):\n",
    "                X = X.values\n",
    "                X = X[:, None]\n",
    "            # Convert y into numpy array\n",
    "            if y is not None:\n",
    "                if isinstance(y, pd.DataFrame):\n",
    "                    y = y.values\n",
    "                elif isinstance(y, pd.Series):\n",
    "                    y = y.values\n",
    "                    y = y[:, None]\n",
    "        if y is None:\n",
    "            return X\n",
    "        else:\n",
    "            return X, y\n",
    "        \n",
    "    def fit(self, X, y):\n",
    "        '''\n",
    "            Description: Finds the line of best fit for the given training set\n",
    "                         using the ordinary least square estimator.\n",
    "                         It uses the training data to find the beta coeffiecients needed\n",
    "                         to minimize the least squared error.\n",
    "                         \n",
    "            Parameters: X: Training data\n",
    "                           Type: Numpy array, Pandas Series or Pandas DataFrame\n",
    "                        y: Target values\n",
    "                           Type: Numpy array, Pandas Series or Pandas DataFrame\n",
    "                         \n",
    "            Returns: self: Returns an instance of self\n",
    "        '''\n",
    "        X, y = self.transform_input(X, y)\n",
    "        X = np.insert(X, 0, values=1, axis=1)\n",
    "        coef = np.dot(np.dot(np.linalg.inv(np.dot(X.T, X)), X.T), y).ravel()\n",
    "        self.coef_ = coef[1:]\n",
    "        self.intercept_ = coef[0]\n",
    "        return self\n",
    "    \n",
    "    def predict(self, X):\n",
    "        '''\n",
    "            Description: Predict target values using linear model\n",
    "            \n",
    "            Parameters: X: Sample data\n",
    "                           Type: Numpy array, Pandas Series or Pandas DataFrame\n",
    "                           \n",
    "            Returns: C: Predicted target values\n",
    "                        Type: Numpy array\n",
    "                        Shape: (n_samples,)\n",
    "        ''' \n",
    "        X = self.transform_input(X)\n",
    "        X = np.insert(X, 0, values=1, axis=1)\n",
    "        coefs = np.insert(self.coef_, 0, values=self.intercept_)\n",
    "        return np.dot(X, coefs)"
   ]
  },
  {
   "cell_type": "code",
   "execution_count": 3,
   "metadata": {},
   "outputs": [
    {
     "data": {
      "text/html": [
       "<div>\n",
       "<style scoped>\n",
       "    .dataframe tbody tr th:only-of-type {\n",
       "        vertical-align: middle;\n",
       "    }\n",
       "\n",
       "    .dataframe tbody tr th {\n",
       "        vertical-align: top;\n",
       "    }\n",
       "\n",
       "    .dataframe thead th {\n",
       "        text-align: right;\n",
       "    }\n",
       "</style>\n",
       "<table border=\"1\" class=\"dataframe\">\n",
       "  <thead>\n",
       "    <tr style=\"text-align: right;\">\n",
       "      <th></th>\n",
       "      <th>x</th>\n",
       "      <th>y</th>\n",
       "    </tr>\n",
       "  </thead>\n",
       "  <tbody>\n",
       "    <tr>\n",
       "      <th>0</th>\n",
       "      <td>10</td>\n",
       "      <td>95</td>\n",
       "    </tr>\n",
       "    <tr>\n",
       "      <th>1</th>\n",
       "      <td>9</td>\n",
       "      <td>80</td>\n",
       "    </tr>\n",
       "    <tr>\n",
       "      <th>2</th>\n",
       "      <td>2</td>\n",
       "      <td>10</td>\n",
       "    </tr>\n",
       "    <tr>\n",
       "      <th>3</th>\n",
       "      <td>15</td>\n",
       "      <td>50</td>\n",
       "    </tr>\n",
       "    <tr>\n",
       "      <th>4</th>\n",
       "      <td>10</td>\n",
       "      <td>45</td>\n",
       "    </tr>\n",
       "  </tbody>\n",
       "</table>\n",
       "</div>"
      ],
      "text/plain": [
       "    x   y\n",
       "0  10  95\n",
       "1   9  80\n",
       "2   2  10\n",
       "3  15  50\n",
       "4  10  45"
      ]
     },
     "execution_count": 3,
     "metadata": {},
     "output_type": "execute_result"
    }
   ],
   "source": [
    "# Load the dataset\n",
    "\n",
    "dataset = pd.read_csv('dataset.csv', names=['x', 'y'], skiprows=1)\n",
    "dataset.head()"
   ]
  },
  {
   "cell_type": "code",
   "execution_count": 4,
   "metadata": {},
   "outputs": [
    {
     "name": "stdout",
     "output_type": "stream",
     "text": [
      "<class 'pandas.core.frame.DataFrame'>\n",
      "RangeIndex: 8 entries, 0 to 7\n",
      "Data columns (total 2 columns):\n",
      "x    8 non-null int64\n",
      "y    8 non-null int64\n",
      "dtypes: int64(2)\n",
      "memory usage: 208.0 bytes\n"
     ]
    },
    {
     "data": {
      "text/html": [
       "<div>\n",
       "<style scoped>\n",
       "    .dataframe tbody tr th:only-of-type {\n",
       "        vertical-align: middle;\n",
       "    }\n",
       "\n",
       "    .dataframe tbody tr th {\n",
       "        vertical-align: top;\n",
       "    }\n",
       "\n",
       "    .dataframe thead th {\n",
       "        text-align: right;\n",
       "    }\n",
       "</style>\n",
       "<table border=\"1\" class=\"dataframe\">\n",
       "  <thead>\n",
       "    <tr style=\"text-align: right;\">\n",
       "      <th></th>\n",
       "      <th>x</th>\n",
       "      <th>y</th>\n",
       "    </tr>\n",
       "  </thead>\n",
       "  <tbody>\n",
       "    <tr>\n",
       "      <th>count</th>\n",
       "      <td>8.000000</td>\n",
       "      <td>8.000000</td>\n",
       "    </tr>\n",
       "    <tr>\n",
       "      <th>mean</th>\n",
       "      <td>11.125000</td>\n",
       "      <td>63.625000</td>\n",
       "    </tr>\n",
       "    <tr>\n",
       "      <th>std</th>\n",
       "      <td>4.673252</td>\n",
       "      <td>32.429869</td>\n",
       "    </tr>\n",
       "    <tr>\n",
       "      <th>min</th>\n",
       "      <td>2.000000</td>\n",
       "      <td>10.000000</td>\n",
       "    </tr>\n",
       "    <tr>\n",
       "      <th>25%</th>\n",
       "      <td>9.750000</td>\n",
       "      <td>43.250000</td>\n",
       "    </tr>\n",
       "    <tr>\n",
       "      <th>50%</th>\n",
       "      <td>10.500000</td>\n",
       "      <td>65.000000</td>\n",
       "    </tr>\n",
       "    <tr>\n",
       "      <th>75%</th>\n",
       "      <td>15.250000</td>\n",
       "      <td>93.500000</td>\n",
       "    </tr>\n",
       "    <tr>\n",
       "      <th>max</th>\n",
       "      <td>16.000000</td>\n",
       "      <td>98.000000</td>\n",
       "    </tr>\n",
       "  </tbody>\n",
       "</table>\n",
       "</div>"
      ],
      "text/plain": [
       "               x          y\n",
       "count   8.000000   8.000000\n",
       "mean   11.125000  63.625000\n",
       "std     4.673252  32.429869\n",
       "min     2.000000  10.000000\n",
       "25%     9.750000  43.250000\n",
       "50%    10.500000  65.000000\n",
       "75%    15.250000  93.500000\n",
       "max    16.000000  98.000000"
      ]
     },
     "execution_count": 4,
     "metadata": {},
     "output_type": "execute_result"
    }
   ],
   "source": [
    "# Load some more info about the dataset\n",
    "\n",
    "dataset.info()\n",
    "dataset.describe()"
   ]
  },
  {
   "cell_type": "code",
   "execution_count": 5,
   "metadata": {},
   "outputs": [],
   "source": [
    "# Split the dataset into training and testing\n",
    "\n",
    "X = dataset['x']\n",
    "y = dataset['y']\n",
    "X_train, X_test, y_train, y_test = train_test_split(X, y, test_size=0.44, random_state=100)"
   ]
  },
  {
   "cell_type": "code",
   "execution_count": 6,
   "metadata": {},
   "outputs": [
    {
     "data": {
      "text/plain": [
       "<matplotlib.axes._subplots.AxesSubplot at 0x7f4ceb2cb358>"
      ]
     },
     "execution_count": 6,
     "metadata": {},
     "output_type": "execute_result"
    },
    {
     "data": {
      "image/png": "[encoded data removed]",
      "text/plain": [
       "<Figure size 432x288 with 1 Axes>"
      ]
     },
     "metadata": {
      "needs_background": "light"
     },
     "output_type": "display_data"
    }
   ],
   "source": [
    "# Visualize the linear relationship between the two variables\n",
    "\n",
    "sns.regplot(x=X, y=y, data=dataset)"
   ]
  },
  {
   "cell_type": "code",
   "execution_count": 7,
   "metadata": {},
   "outputs": [
    {
     "name": "stdout",
     "output_type": "stream",
     "text": [
      "Running custom Linear Regression class...\n",
      "Equation of best fit line: y = 60.0 + 0.692307692307689x\n",
      "Predicted values: [66.23076923 66.92307692 71.07692308 61.38461538]\n",
      "R2 score of custom model : 0.11440307522197823\n"
     ]
    }
   ],
   "source": [
    "# Predicting target values using CustomLinearRegression class\n",
    "\n",
    "my_lm = CustomLinearRegression()\n",
    "y_pred = my_lm.fit(X_train, y_train).predict(X_test)\n",
    "# Calculate r2 score\n",
    "model_score = r2_score(y_test, y_pred)\n",
    "print(\"Running custom Linear Regression class...\")\n",
    "print(\"Equation of best fit line: y = {b0} + {b1}x\".format(b0=my_lm.intercept_, b1=my_lm.coef_[0]))\n",
    "print(\"Predicted values: {y_pred}\".format(y_pred=y_pred))\n",
    "print(\"R2 score of custom model : {model_score}\".format(model_score=model_score))"
   ]
  },
  {
   "cell_type": "code",
   "execution_count": 8,
   "metadata": {},
   "outputs": [
    {
     "name": "stdout",
     "output_type": "stream",
     "text": [
      "Running sklearn Linear Regression class...\n",
      "Equation of best fit line: y = 59.99999999999999 + 0.6923076923076927x\n",
      "Predicted values: [66.23076923 66.92307692 71.07692308 61.38461538]\n",
      "R2 score of sklearn linear model : 0.1144030752219789\n"
     ]
    }
   ],
   "source": [
    "# Predicting target values using sklearn LinearRegression class\n",
    "\n",
    "lm = LinearRegression()\n",
    "y_pred = lm.fit(X_train[:, None], y_train).predict(X_test[:, None])\n",
    "# Calculate r2 score\n",
    "model_score = r2_score(y_test, y_pred)\n",
    "print(\"Running sklearn Linear Regression class...\")\n",
    "print(\"Equation of best fit line: y = {b0} + {b1}x\".format(b0=lm.intercept_, b1=lm.coef_[0]))\n",
    "print(\"Predicted values: {y_pred}\".format(y_pred=y_pred))\n",
    "print(\"R2 score of sklearn linear model : {model_score}\".format(model_score=model_score))"
   ]
  }
 ],
 "metadata": {
  "kernelspec": {
   "display_name": "Python 3",
   "language": "python",
   "name": "python3"
  },
  "language_info": {
   "codemirror_mode": {
    "name": "ipython",
    "version": 3
   },
   "file_extension": ".py",
   "mimetype": "text/x-python",
   "name": "python",
   "nbconvert_exporter": "python",
   "pygments_lexer": "ipython3",
   "version": "3.6.8"
  }
 },
 "nbformat": 4,
 "nbformat_minor": 2
}
