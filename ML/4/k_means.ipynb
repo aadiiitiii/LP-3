{
 "cells": [
  {
   "cell_type": "code",
   "execution_count": 94,
   "metadata": {},
   "outputs": [],
   "source": [
    "import numpy as np\n",
    "import pandas as pd\n",
    "import matplotlib.pyplot as plt\n",
    "from sklearn.cluster import KMeans\n",
    "from copy import deepcopy"
   ]
  },
  {
   "cell_type": "code",
   "execution_count": 118,
   "metadata": {},
   "outputs": [],
   "source": [
    "# Euclidean Distance Caculator\n",
    "def euclidean(a, b, ax=1):\n",
    "    return np.linalg.norm(a-b, axis=ax)"
   ]
  },
  {
   "cell_type": "code",
   "execution_count": 142,
   "metadata": {},
   "outputs": [],
   "source": [
    "class CustomKMeans:\n",
    "    def __init__(self, n_clusters=8, init=\"random\", max_iter=300, tol = 0.0001):\n",
    "        '''\n",
    "        Parameters: n_clusters: int, optional, default: 8\n",
    "                        The number of clusters to form as well as the number\n",
    "                        of centroids to generate\n",
    "                    \n",
    "                    init: {'random' or an ndarray}\n",
    "                        Method for initialization, defaults to 'random'\n",
    "                        \n",
    "                        'random': choose k observations(rows) at random\n",
    "                                  from data for the initial centroids\n",
    "                        \n",
    "                        If an ndarray is passed, it should be of shape \n",
    "                        (n_clusters, n_features) and gives the initial\n",
    "                        centroids\n",
    "                    \n",
    "                    max_iter: int, optional, default: 300\n",
    "                        Maximum number of iterations of the k-means\n",
    "                        algorithm in a single run\n",
    "                    \n",
    "                    tol: float, optional, default: 0.0001\n",
    "                        Relative tolerance with respect to inertia to\n",
    "                        declare convergence\n",
    "        '''\n",
    "        if n_clusters > 0:\n",
    "            self.n_clusters = n_clusters\n",
    "        else:\n",
    "            raise ValueError(\"n_clusters must be an int greater than 0.\")\n",
    "        if isinstance(init, str) and init != \"random\":\n",
    "            raise ValueError(\"init parameter can only have value random or be a ndarray \"\n",
    "                             \"of shape (n_clusters, n_features).\")\n",
    "        elif not hasattr(init, '__array__'):\n",
    "            raise ValueError(\"init parameter can only have value random or be a ndarray \"\n",
    "                             \"of shape (n_clusters, n_features).\")\n",
    "        else:\n",
    "            self.init = init\n",
    "        if max_iter > 0:\n",
    "            self.max_iter = max_iter\n",
    "        else:\n",
    "            raise ValueError(\"max_iter must be an int greater than 0.\")\n",
    "        if tol > 0:\n",
    "            self.tol = tol\n",
    "        else:\n",
    "            raise ValueError(\"tol must be a float greater than 0.\")\n",
    "\n",
    "    def check_input(self, X, y=None):\n",
    "        '''\n",
    "            Description: Checks if the input is a Pandas DataFrame,\n",
    "                         Pandas Series or Numpy array\n",
    "            \n",
    "            Parameters: X: Data\n",
    "                        y: Target values\n",
    "                        \n",
    "            Returns: ValueError if input is invalid\n",
    "                     True otherwise\n",
    "        '''\n",
    "        if not isinstance(X, (pd.Series, pd.DataFrame, np.ndarray)):\n",
    "            error = \"\"\" X required as a Pandas DataFrame, \n",
    "                        Pandas Series or a Numpy array. Found type: {datatype_x}\n",
    "                    \"\"\".format(datatype_x=type(X))\n",
    "            raise TypeError(error)\n",
    "        if y is not None and not isinstance(y, (pd.Series, pd.DataFrame, np.ndarray)):\n",
    "            error = \"\"\" y required as a Pandas DataFrame, \n",
    "                        Pandas Series or a Numpy array. Found type: {datatype_y}\n",
    "                    \"\"\".format(datatype_y=type(y))\n",
    "            raise TypeError(error)\n",
    "        return True\n",
    "    \n",
    "    def transform_input(self, X, y=None):\n",
    "        '''\n",
    "            Description: Transforms the input into 2D numpy array before fitting the model\n",
    "            \n",
    "            Parameters: X: Data\n",
    "                        y: Target values\n",
    "                        \n",
    "            Returns: If input is of valid format:\n",
    "                         X: Returns data X as a 2D numpy array\n",
    "                         y: Returns target y as a 2D numpy array\n",
    "                     Otherwise returns the input as it is\n",
    "        '''\n",
    "        if self.check_input(X, y):\n",
    "            # Convert X into numpy array\n",
    "            if isinstance(X, pd.DataFrame):\n",
    "                X = X.values\n",
    "            elif isinstance(X, pd.Series):\n",
    "                X = X.values\n",
    "                X = X[:, None]\n",
    "            # Convert y into numpy array\n",
    "            if y is not None:\n",
    "                if isinstance(y, pd.DataFrame):\n",
    "                    y = y.values\n",
    "                elif isinstance(y, pd.Series):\n",
    "                    y = y.values\n",
    "                    y = y[:, None]\n",
    "        if y is None:\n",
    "            return X\n",
    "        else:\n",
    "            return X, y\n",
    "    \n",
    "    def _init_centroids(self, X):\n",
    "        '''\n",
    "        Parameters: X: array, shape (n_samples, n_features)\n",
    "                        The dataset using which clusters need\n",
    "                        to be found.\n",
    "        Returns: centres: array, shape(n_clusters, n_features)\n",
    "                            Initial centroids\n",
    "        '''\n",
    "        n_samples = X.shape[0]\n",
    "        if isinstance(self.init, str):\n",
    "            seeds = np.random.permutation(n_samples)[:self.n_clusters]\n",
    "            centers = X[seeds]\n",
    "        else:\n",
    "            centers = np.array(self.init)\n",
    "        if len(centers) != self.n_clusters:\n",
    "            raise ValueError(\"The shape of the initial centers {} \"\n",
    "                             \"does not match the number of clusters {}\"\n",
    "                             .format(centers.shape, self.n_clusters))\n",
    "        if centers.shape[1] != X.shape[1]:\n",
    "            raise ValueError(\"The number of features of the initial centers {} \"\n",
    "                             \"does not match the number of features of the data {}.\"\n",
    "                             .format(centers.shape[1], X.shape[1]))\n",
    "        return centers\n",
    "    \n",
    "    def fit(self, X):\n",
    "        '''\n",
    "        Parameters: X: array, shape(n_samples, n_features)\n",
    "                        The dataset using which clusters need\n",
    "                        to be found.\n",
    "        '''\n",
    "        X = self.transform_input(X)\n",
    "        self.cluster_centers_ = self._init_centroids(X)\n",
    "        \n",
    "        for i in range(self.max_iter):\n",
    "            self.labels_ = np.zeros(len(X), dtype=np.int64)\n",
    "            self.inertia_ = np.zeros(len(X))\n",
    "            previous_clusters_ = np.zeros(self.cluster_centers_.shape)\n",
    "            for j in range(len(X)):\n",
    "                # Calculate distances to all centroids\n",
    "                distances = euclidean(X[j], self.cluster_centers_)\n",
    "                # Label for given datapoint is centroid with smallest distance value\n",
    "                self.labels_[j] = np.argmin(distances)\n",
    "                # Store the smallest distance value as inertia of datapoint\n",
    "                self.inertia_[j] = np.amin(distances)\n",
    "            previous_clusters = deepcopy(self.cluster_centers_)\n",
    "            # Finding the new centroids by taking the average value\n",
    "            for j in range(self.n_clusters):\n",
    "                points = [X[k] for k in range(len(X)) if self.labels_[k] == j]\n",
    "                self.cluster_centers_[j] = np.mean(points, axis=0)\n",
    "            # Check if kmeans has already converged\n",
    "            if euclidean(self.cluster_centers_, previous_clusters, None) <= self.tol:\n",
    "                break\n",
    "        return self\n",
    "            \n",
    "\n",
    "    def predict(self, X):\n",
    "        '''\n",
    "        Parameters: X: array, shape(n_samples, n_features)\n",
    "                        Datapoints whose labels need to be\n",
    "                        predicted.\n",
    "        Returns: labels: array, shape(n_samples,)\n",
    "                            Predicted labels of all points\n",
    "                            in X.\n",
    "        '''\n",
    "        X = self.transform_input(X)\n",
    "        labels = np.zeros(len(X), dtype=np.int64)\n",
    "        for i in range(len(X)):\n",
    "            distances = euclidean(X[i], self.cluster_centers_)\n",
    "            labels[i] = np.argmin(distances)\n",
    "        return labels"
   ]
  },
  {
   "cell_type": "code",
   "execution_count": 97,
   "metadata": {},
   "outputs": [
    {
     "data": {
      "text/html": [
       "<div>\n",
       "<style scoped>\n",
       "    .dataframe tbody tr th:only-of-type {\n",
       "        vertical-align: middle;\n",
       "    }\n",
       "\n",
       "    .dataframe tbody tr th {\n",
       "        vertical-align: top;\n",
       "    }\n",
       "\n",
       "    .dataframe thead th {\n",
       "        text-align: right;\n",
       "    }\n",
       "</style>\n",
       "<table border=\"1\" class=\"dataframe\">\n",
       "  <thead>\n",
       "    <tr style=\"text-align: right;\">\n",
       "      <th></th>\n",
       "      <th>Points</th>\n",
       "      <th>X</th>\n",
       "      <th>Y</th>\n",
       "    </tr>\n",
       "  </thead>\n",
       "  <tbody>\n",
       "    <tr>\n",
       "      <th>0</th>\n",
       "      <td>P1</td>\n",
       "      <td>0.10</td>\n",
       "      <td>0.60</td>\n",
       "    </tr>\n",
       "    <tr>\n",
       "      <th>1</th>\n",
       "      <td>P2</td>\n",
       "      <td>0.15</td>\n",
       "      <td>0.71</td>\n",
       "    </tr>\n",
       "    <tr>\n",
       "      <th>2</th>\n",
       "      <td>P3</td>\n",
       "      <td>0.08</td>\n",
       "      <td>0.90</td>\n",
       "    </tr>\n",
       "    <tr>\n",
       "      <th>3</th>\n",
       "      <td>P4</td>\n",
       "      <td>0.16</td>\n",
       "      <td>0.85</td>\n",
       "    </tr>\n",
       "    <tr>\n",
       "      <th>4</th>\n",
       "      <td>P5</td>\n",
       "      <td>0.20</td>\n",
       "      <td>0.30</td>\n",
       "    </tr>\n",
       "    <tr>\n",
       "      <th>5</th>\n",
       "      <td>P6</td>\n",
       "      <td>0.25</td>\n",
       "      <td>0.50</td>\n",
       "    </tr>\n",
       "    <tr>\n",
       "      <th>6</th>\n",
       "      <td>P7</td>\n",
       "      <td>0.24</td>\n",
       "      <td>0.10</td>\n",
       "    </tr>\n",
       "    <tr>\n",
       "      <th>7</th>\n",
       "      <td>P8</td>\n",
       "      <td>0.30</td>\n",
       "      <td>0.20</td>\n",
       "    </tr>\n",
       "  </tbody>\n",
       "</table>\n",
       "</div>"
      ],
      "text/plain": [
       "  Points     X     Y\n",
       "0     P1  0.10  0.60\n",
       "1     P2  0.15  0.71\n",
       "2     P3  0.08  0.90\n",
       "3     P4  0.16  0.85\n",
       "4     P5  0.20  0.30\n",
       "5     P6  0.25  0.50\n",
       "6     P7  0.24  0.10\n",
       "7     P8  0.30  0.20"
      ]
     },
     "execution_count": 97,
     "metadata": {},
     "output_type": "execute_result"
    }
   ],
   "source": [
    "dataset = pd.read_csv('dataset.csv')\n",
    "dataset.head(20)"
   ]
  },
  {
   "cell_type": "code",
   "execution_count": 98,
   "metadata": {},
   "outputs": [
    {
     "data": {
      "text/html": [
       "<div>\n",
       "<style scoped>\n",
       "    .dataframe tbody tr th:only-of-type {\n",
       "        vertical-align: middle;\n",
       "    }\n",
       "\n",
       "    .dataframe tbody tr th {\n",
       "        vertical-align: top;\n",
       "    }\n",
       "\n",
       "    .dataframe thead th {\n",
       "        text-align: right;\n",
       "    }\n",
       "</style>\n",
       "<table border=\"1\" class=\"dataframe\">\n",
       "  <thead>\n",
       "    <tr style=\"text-align: right;\">\n",
       "      <th></th>\n",
       "      <th>X</th>\n",
       "      <th>Y</th>\n",
       "    </tr>\n",
       "  </thead>\n",
       "  <tbody>\n",
       "    <tr>\n",
       "      <th>0</th>\n",
       "      <td>0.10</td>\n",
       "      <td>0.60</td>\n",
       "    </tr>\n",
       "    <tr>\n",
       "      <th>1</th>\n",
       "      <td>0.15</td>\n",
       "      <td>0.71</td>\n",
       "    </tr>\n",
       "    <tr>\n",
       "      <th>2</th>\n",
       "      <td>0.08</td>\n",
       "      <td>0.90</td>\n",
       "    </tr>\n",
       "    <tr>\n",
       "      <th>3</th>\n",
       "      <td>0.16</td>\n",
       "      <td>0.85</td>\n",
       "    </tr>\n",
       "    <tr>\n",
       "      <th>4</th>\n",
       "      <td>0.20</td>\n",
       "      <td>0.30</td>\n",
       "    </tr>\n",
       "    <tr>\n",
       "      <th>5</th>\n",
       "      <td>0.25</td>\n",
       "      <td>0.50</td>\n",
       "    </tr>\n",
       "    <tr>\n",
       "      <th>6</th>\n",
       "      <td>0.24</td>\n",
       "      <td>0.10</td>\n",
       "    </tr>\n",
       "    <tr>\n",
       "      <th>7</th>\n",
       "      <td>0.30</td>\n",
       "      <td>0.20</td>\n",
       "    </tr>\n",
       "  </tbody>\n",
       "</table>\n",
       "</div>"
      ],
      "text/plain": [
       "      X     Y\n",
       "0  0.10  0.60\n",
       "1  0.15  0.71\n",
       "2  0.08  0.90\n",
       "3  0.16  0.85\n",
       "4  0.20  0.30\n",
       "5  0.25  0.50\n",
       "6  0.24  0.10\n",
       "7  0.30  0.20"
      ]
     },
     "execution_count": 98,
     "metadata": {},
     "output_type": "execute_result"
    }
   ],
   "source": [
    "dataset = dataset.drop(['Points'], axis=1)\n",
    "dataset.head(20)"
   ]
  },
  {
   "cell_type": "code",
   "execution_count": 99,
   "metadata": {},
   "outputs": [
    {
     "data": {
      "text/plain": [
       "<matplotlib.collections.PathCollection at 0x7f631c2862b0>"
      ]
     },
     "execution_count": 99,
     "metadata": {},
     "output_type": "execute_result"
    },
    {
     "data": {
      "image/png": "[encoded data removed]",
      "text/plain": [
       "<Figure size 432x288 with 1 Axes>"
      ]
     },
     "metadata": {
      "needs_background": "light"
     },
     "output_type": "display_data"
    }
   ],
   "source": [
    "# Visualize the points before clustering\n",
    "plt.scatter(dataset['X'], dataset['Y'], c='black', s=30)"
   ]
  },
  {
   "cell_type": "code",
   "execution_count": 116,
   "metadata": {},
   "outputs": [
    {
     "name": "stdout",
     "output_type": "stream",
     "text": [
      "Inital centroids are : [[0.1 0.6]\n",
      " [0.3 0.2]]\n"
     ]
    }
   ],
   "source": [
    "# Generate training dataset\n",
    "X = np.array(list(zip(dataset['X'], dataset['Y'])))\n",
    "# Set the initial centroids as P1 and P8\n",
    "initial_centroids = np.array([X[0], X[7]])\n",
    "print(\"Inital centroids are : {}\".format(initial_centroids))"
   ]
  },
  {
   "cell_type": "code",
   "execution_count": 145,
   "metadata": {},
   "outputs": [
    {
     "name": "stdout",
     "output_type": "stream",
     "text": [
      "P6 belongs to cluster: 0\n",
      "Population of cluster around M2: 3\n",
      "Updated value of m1 and m2: [[0.148      0.712     ]\n",
      " [0.24666667 0.2       ]]\n"
     ]
    },
    {
     "data": {
      "text/plain": [
       "<matplotlib.collections.PathCollection at 0x7f631b863f98>"
      ]
     },
     "execution_count": 145,
     "metadata": {},
     "output_type": "execute_result"
    },
    {
     "data": {
      "image/png": "[encoded data removed]",
      "text/plain": [
       "<Figure size 432x288 with 1 Axes>"
      ]
     },
     "metadata": {
      "needs_background": "light"
     },
     "output_type": "display_data"
    }
   ],
   "source": [
    "# Run Custom KMeans and find the clusters\n",
    "custom_kmeans = CustomKMeans(n_clusters=2, init=initial_centroids)\n",
    "labels = custom_kmeans.fit(X).predict(X)\n",
    "centroids = custom_kmeans.cluster_centers_\n",
    "# Which cluster does P6 belong to?\n",
    "print(\"P6 belongs to cluster: {}\".format(labels[5]))\n",
    "# What is the population of cluster around m2?\n",
    "points_in_m2 = np.array([X[i] for i in range(len(X)) if labels[i]==1])\n",
    "print(\"Population of cluster around M2: {}\".format(len(points_in_m2)))\n",
    "# What is updated value of m1 and m2?\n",
    "print(\"Updated value of m1 and m2: {}\".format(centroids))\n",
    "# Visualize the clusters identified by custom KMeans\n",
    "colors = ['red', 'green']\n",
    "fig, ax = plt.subplots()\n",
    "for i in range(len(centroids)):\n",
    "    points = np.array([X[j] for j in range(len(X)) if labels[j]==i])\n",
    "    ax.scatter(points[:, 0], points[:, 1], s=30, c=colors[i])\n",
    "ax.scatter(centroids[:, 0], centroids[:, 1], marker=\"*\", s=320, c='black')"
   ]
  },
  {
   "cell_type": "code",
   "execution_count": 139,
   "metadata": {},
   "outputs": [
    {
     "name": "stdout",
     "output_type": "stream",
     "text": [
      "P6 belongs to cluster: 0\n",
      "Population of cluster around M2: 3\n",
      "Updated value of m1 and m2: [[0.148      0.712     ]\n",
      " [0.24666667 0.2       ]]\n"
     ]
    },
    {
     "data": {
      "text/plain": [
       "<matplotlib.collections.PathCollection at 0x7f631bb790b8>"
      ]
     },
     "execution_count": 139,
     "metadata": {},
     "output_type": "execute_result"
    },
    {
     "data": {
      "image/png": "[encoded data removed]",
      "text/plain": [
       "<Figure size 432x288 with 1 Axes>"
      ]
     },
     "metadata": {
      "needs_background": "light"
     },
     "output_type": "display_data"
    }
   ],
   "source": [
    "# Run Sklearn KMeans and find the clusters\n",
    "sklearn_kmeans = KMeans(n_clusters=2, init=initial_centroids, n_init=1)\n",
    "labels = sklearn_kmeans.fit(X).predict(X)\n",
    "centroids = sklearn_kmeans.cluster_centers_\n",
    "# Which cluster does P6 belong to?\n",
    "print(\"P6 belongs to cluster: {}\".format(labels[5]))\n",
    "# What is the population of cluster around m2?\n",
    "points_in_m2 = np.array([X[i] for i in range(len(X)) if labels[i]==1])\n",
    "print(\"Population of cluster around M2: {}\".format(len(points_in_m2)))\n",
    "# What is updated value of m1 and m2?\n",
    "print(\"Updated value of m1 and m2: {}\".format(centroids))\n",
    "# Visualize the clusters identified by sklearn KMeans\n",
    "colors = ['red', 'green']\n",
    "fig, ax = plt.subplots()\n",
    "for i in range(len(centroids)):\n",
    "    points = np.array([X[j] for j in range(len(X)) if labels[j]==i])\n",
    "    ax.scatter(points[:, 0], points[:, 1], s=30, c=colors[i])\n",
    "ax.scatter(centroids[:, 0], centroids[:, 1], marker=\"*\", s=320, c='black')"
   ]
  }
 ],
 "metadata": {
  "kernelspec": {
   "display_name": "Python 3",
   "language": "python",
   "name": "python3"
  },
  "language_info": {
   "codemirror_mode": {
    "name": "ipython",
    "version": 3
   },
   "file_extension": ".py",
   "mimetype": "text/x-python",
   "name": "python",
   "nbconvert_exporter": "python",
   "pygments_lexer": "ipython3",
   "version": "3.6.8"
  }
 },
 "nbformat": 4,
 "nbformat_minor": 2
}
